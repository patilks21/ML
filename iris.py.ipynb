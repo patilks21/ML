{
 "cells": [
  {
   "cell_type": "code",
   "execution_count": 1,
   "metadata": {
    "collapsed": true
   },
   "outputs": [],
   "source": [
    "import pandas as pd\n",
    "from sklearn.model_selection import train_test_split\n",
    "from sklearn.preprocessing import LabelEncoder\n",
    "import numpy as np"
   ]
  },
  {
   "cell_type": "code",
   "execution_count": 2,
   "metadata": {
    "collapsed": true
   },
   "outputs": [],
   "source": [
    "df=pd.read_csv(\"iris.csv\")\n",
    "X = df.iloc[:, [0,1,2,3]].values\n",
    "Y = df.iloc[:, 4].values"
   ]
  },
  {
   "cell_type": "code",
   "execution_count": 3,
   "metadata": {
    "collapsed": true
   },
   "outputs": [],
   "source": [
    "x_train,x_test,y_train,y_test=train_test_split(X,Y,test_size=0.25,random_state=1000)"
   ]
  },
  {
   "cell_type": "code",
   "execution_count": 4,
   "metadata": {},
   "outputs": [],
   "source": [
    "x=np.random.uniform(0.0,1.0,size=(150,4))\n",
    "y=np.random.choice(('setosa','versicolor','virginica'),size=(150))"
   ]
  },
  {
   "cell_type": "code",
   "execution_count": 5,
   "metadata": {},
   "outputs": [
    {
     "name": "stdout",
     "output_type": "stream",
     "text": [
      "[ 0.13595519  0.5109147   0.83620137  0.55509329] setosa\n"
     ]
    }
   ],
   "source": [
    "print(x[0],y[0])"
   ]
  },
  {
   "cell_type": "code",
   "execution_count": 6,
   "metadata": {},
   "outputs": [
    {
     "name": "stdout",
     "output_type": "stream",
     "text": [
      "[0 1 1 2 1 2 1 2 2 2 2 1 2 2 0 1 2 2 1 2 2 1 1 0 0 2 0 1 0 2 1 2 0 1 2 1 0\n",
      " 2 0 0 2 0 1 0 1 2 2 1 2 2 1 0 2 2 2 1 0 1 1 1 2 1 0 0 1 1 2 1 2 2 0 1 2 0\n",
      " 1 0 0 0 0 0 0 0 0 0 0 1 1 2 1 1 1 0 1 0 0 2 0 0 0 2 1 0 2 0 1 2 2 1 2 0 2\n",
      " 1 0 1 0 0 2 1 0 0 1 2 2 2 1 2 1 0 1 1 2 2 2 2 0 1 1 2 0 1 0 0 2 2 1 2 1 2\n",
      " 0 2]\n"
     ]
    }
   ],
   "source": [
    "le=LabelEncoder()\n",
    "yt=le.fit_transform(y)\n",
    "print(yt)"
   ]
  },
  {
   "cell_type": "code",
   "execution_count": null,
   "metadata": {
    "collapsed": true
   },
   "outputs": [],
   "source": []
  }
 ],
 "metadata": {
  "kernelspec": {
   "display_name": "Python 3",
   "language": "python",
   "name": "python3"
  },
  "language_info": {
   "codemirror_mode": {
    "name": "ipython",
    "version": 3
   },
   "file_extension": ".py",
   "mimetype": "text/x-python",
   "name": "python",
   "nbconvert_exporter": "python",
   "pygments_lexer": "ipython3",
   "version": "3.6.1"
  }
 },
 "nbformat": 4,
 "nbformat_minor": 2
}
